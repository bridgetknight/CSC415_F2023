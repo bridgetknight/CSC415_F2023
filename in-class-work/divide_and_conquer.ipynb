{
 "cells": [
  {
   "cell_type": "code",
   "execution_count": 2,
   "metadata": {},
   "outputs": [],
   "source": [
    "import math\n",
    "import random\n",
    "import pyllist\n",
    "import time\n",
    "import pandas as pd"
   ]
  },
  {
   "cell_type": "markdown",
   "metadata": {},
   "source": [
    "# Example 1: Merge Sort\n",
    "Discussed in class on 10/12/2023."
   ]
  },
  {
   "cell_type": "code",
   "execution_count": 66,
   "metadata": {},
   "outputs": [
    {
     "name": "stdout",
     "output_type": "stream",
     "text": [
      "Before sort:\n",
      "War and Peace, 1990, Brave New World, Introduction to Programming, 2021, Java Reference, 2019\n",
      "\n",
      "After sort:\n",
      "1990, 2019, 2021, Brave New World, Introduction to Programming, Java Reference, War and Peace\n",
      "\n",
      "Time taken: 0\n"
     ]
    }
   ],
   "source": [
    "list1 = [\"War and Peace\", \"1990\", \"Brave New World\"]  \n",
    "list2 = [\"Introduction to Programming\",\"2021\", \"Java Reference\", \"2019\"]  \n",
    "\n",
    "# Merge both lists\n",
    "full_list = list1 + list2\n",
    "print(\"Before sort:\")\n",
    "print(*full_list, sep = \", \")\n",
    "\n",
    "start = time.time_ns()\n",
    "sort(full_list)\n",
    "end = time.time_ns()\n",
    "\n",
    "print(\"\\nAfter sort:\")\n",
    "print(*full_list, sep = \", \")\n",
    "\n",
    "print(f\"\\nTime taken: {end-start}\")"
   ]
  },
  {
   "cell_type": "code",
   "execution_count": 52,
   "metadata": {},
   "outputs": [],
   "source": [
    "def sort(arr):\n",
    "    n = len(arr)\n",
    "    \n",
    "    if(n<=1):\n",
    "        return\n",
    "    \n",
    "    mid = math.floor(n/2)\n",
    "    left = arr[:mid]\n",
    "    right = arr[mid:]\n",
    "    #print(f\"Left: {left} Right: {right}\")\n",
    "    \n",
    "    sort(left)\n",
    "    sort(right)\n",
    "    merge(arr, left, right)"
   ]
  },
  {
   "cell_type": "code",
   "execution_count": 56,
   "metadata": {},
   "outputs": [],
   "source": [
    "def merge(arr, left, right):\n",
    "    \n",
    "    left_size = len(left)\n",
    "    right_size = len(right)\n",
    "    i = 0\n",
    "    l = 0\n",
    "    r = 0\n",
    "    \n",
    "    while l < left_size and r < right_size:\n",
    "        if left[l] < right[r]:\n",
    "            arr[i] = left[l]\n",
    "            i+=1\n",
    "            l+=1\n",
    "        else:\n",
    "            arr[i] = right[r]\n",
    "            i+=1\n",
    "            r+=1\n",
    "        \n",
    "    # Store any remaining elements in left side\n",
    "    while l < left_size:\n",
    "        arr[i] = left[l]\n",
    "        i+=1\n",
    "        l+=1\n",
    "        \n",
    "    # Store any remaining elements in right side\n",
    "    while r < right_size:\n",
    "        arr[i] = right[r]\n",
    "        i+=1\n",
    "        r+=1   \n"
   ]
  },
  {
   "cell_type": "markdown",
   "metadata": {},
   "source": [
    "# HW Assignment: Books Merge Sort"
   ]
  },
  {
   "cell_type": "code",
   "execution_count": 29,
   "metadata": {},
   "outputs": [
    {
     "data": {
      "text/html": [
       "<div>\n",
       "<style scoped>\n",
       "    .dataframe tbody tr th:only-of-type {\n",
       "        vertical-align: middle;\n",
       "    }\n",
       "\n",
       "    .dataframe tbody tr th {\n",
       "        vertical-align: top;\n",
       "    }\n",
       "\n",
       "    .dataframe thead th {\n",
       "        text-align: right;\n",
       "    }\n",
       "</style>\n",
       "<table border=\"1\" class=\"dataframe\">\n",
       "  <thead>\n",
       "    <tr style=\"text-align: right;\">\n",
       "      <th></th>\n",
       "      <th>FirstName</th>\n",
       "      <th>LastName</th>\n",
       "    </tr>\n",
       "  </thead>\n",
       "  <tbody>\n",
       "    <tr>\n",
       "      <th>0</th>\n",
       "      <td>Mechelle</td>\n",
       "      <td>Stoneman</td>\n",
       "    </tr>\n",
       "    <tr>\n",
       "      <th>1</th>\n",
       "      <td>Tyesha</td>\n",
       "      <td>Freitag</td>\n",
       "    </tr>\n",
       "    <tr>\n",
       "      <th>2</th>\n",
       "      <td>Dean</td>\n",
       "      <td>Stoecker</td>\n",
       "    </tr>\n",
       "    <tr>\n",
       "      <th>3</th>\n",
       "      <td>Annelle</td>\n",
       "      <td>Pickney</td>\n",
       "    </tr>\n",
       "    <tr>\n",
       "      <th>4</th>\n",
       "      <td>Margareta</td>\n",
       "      <td>Tacy</td>\n",
       "    </tr>\n",
       "  </tbody>\n",
       "</table>\n",
       "</div>"
      ],
      "text/plain": [
       "   FirstName  LastName\n",
       "0   Mechelle  Stoneman\n",
       "1     Tyesha   Freitag\n",
       "2       Dean  Stoecker\n",
       "3    Annelle   Pickney\n",
       "4  Margareta      Tacy"
      ]
     },
     "execution_count": 29,
     "metadata": {},
     "output_type": "execute_result"
    }
   ],
   "source": [
    "customers = pd.read_csv(\"../data/Customer_Names.csv\")\n",
    "customers = customers[[\"FirstName\", \"LastName\"]]\n",
    "customers.head()\n",
    "#customers[[\"FirstName\"]]"
   ]
  },
  {
   "cell_type": "code",
   "execution_count": null,
   "metadata": {},
   "outputs": [],
   "source": [
    "sorted_customers = sort(customers, \"LastName\")\n",
    "sorted_customers = sort(customers, \"FirstName\")"
   ]
  },
  {
   "cell_type": "code",
   "execution_count": 17,
   "metadata": {},
   "outputs": [],
   "source": [
    "def sort(arr):\n",
    "    n = len(arr)\n",
    "    \n",
    "    if(n<=1):\n",
    "        return\n",
    "    \n",
    "    mid = math.floor(n/2)\n",
    "    left = arr[:mid]\n",
    "    right = arr[mid:]\n",
    "    #print(f\"Left: {left} Right: {right}\")\n",
    "    \n",
    "    sort(left)\n",
    "    sort(right)\n",
    "    merge(left, right)"
   ]
  },
  {
   "cell_type": "code",
   "execution_count": 18,
   "metadata": {},
   "outputs": [],
   "source": [
    "def merge(left, right):\n",
    "    \n",
    "    # Check for base case\n",
    "    if(len(left)==0): return right\n",
    "    if(len(right)==0): return left\n",
    "    \n",
    "    if(left[0]<=right[0]):\n",
    "        result = left + right\n",
    "        print(f\"{left} comes before {right}\")\n",
    "    else:\n",
    "        result = right + left\n",
    "        print(f\"{right} comes before {left}\")\n",
    "        \n",
    "    print(result)\n",
    "    return result\n"
   ]
  },
  {
   "cell_type": "markdown",
   "metadata": {},
   "source": [
    "# Extra Credit: Linked List Merge Sort"
   ]
  },
  {
   "cell_type": "code",
   "execution_count": 11,
   "metadata": {},
   "outputs": [
    {
     "name": "stdout",
     "output_type": "stream",
     "text": [
      "* * * * * PROBLEM 3 * * * * *\n",
      "The given LinkedList is:\n",
      "sllist([23, 4, 8, 13, 1, 1, 16, 7])\n"
     ]
    },
    {
     "ename": "AttributeError",
     "evalue": "can't set attribute",
     "output_type": "error",
     "traceback": [
      "\u001b[1;31m---------------------------------------------------------------------------\u001b[0m",
      "\u001b[1;31mAttributeError\u001b[0m                            Traceback (most recent call last)",
      "\u001b[1;32m~\\AppData\\Local\\Temp/ipykernel_10980/2266453865.py\u001b[0m in \u001b[0;36m<module>\u001b[1;34m\u001b[0m\n\u001b[0;32m      6\u001b[0m \u001b[1;31m# Timing\u001b[0m\u001b[1;33m\u001b[0m\u001b[1;33m\u001b[0m\u001b[0m\n\u001b[0;32m      7\u001b[0m \u001b[0mstart\u001b[0m \u001b[1;33m=\u001b[0m \u001b[0mtime\u001b[0m\u001b[1;33m.\u001b[0m\u001b[0mtime_ns\u001b[0m\u001b[1;33m(\u001b[0m\u001b[1;33m)\u001b[0m\u001b[1;33m\u001b[0m\u001b[1;33m\u001b[0m\u001b[0m\n\u001b[1;32m----> 8\u001b[1;33m \u001b[0mresult\u001b[0m \u001b[1;33m=\u001b[0m \u001b[0mlinked_merge_sort\u001b[0m\u001b[1;33m(\u001b[0m\u001b[0mllist\u001b[0m\u001b[1;33m,\u001b[0m \u001b[0mllist\u001b[0m\u001b[1;33m.\u001b[0m\u001b[0mfirst\u001b[0m\u001b[1;33m)\u001b[0m\u001b[1;33m\u001b[0m\u001b[1;33m\u001b[0m\u001b[0m\n\u001b[0m\u001b[0;32m      9\u001b[0m \u001b[0mend\u001b[0m \u001b[1;33m=\u001b[0m \u001b[0mtime\u001b[0m\u001b[1;33m.\u001b[0m\u001b[0mtime_ns\u001b[0m\u001b[1;33m(\u001b[0m\u001b[1;33m)\u001b[0m\u001b[1;33m\u001b[0m\u001b[1;33m\u001b[0m\u001b[0m\n\u001b[0;32m     10\u001b[0m \u001b[1;33m\u001b[0m\u001b[0m\n",
      "\u001b[1;32m~\\AppData\\Local\\Temp/ipykernel_10980/4256385384.py\u001b[0m in \u001b[0;36mlinked_merge_sort\u001b[1;34m(arr, head)\u001b[0m\n\u001b[0;32m     18\u001b[0m     \u001b[0mright_start\u001b[0m \u001b[1;33m=\u001b[0m \u001b[0mmiddle\u001b[0m\u001b[1;33m.\u001b[0m\u001b[0mnext\u001b[0m\u001b[1;33m\u001b[0m\u001b[1;33m\u001b[0m\u001b[0m\n\u001b[0;32m     19\u001b[0m \u001b[1;33m\u001b[0m\u001b[0m\n\u001b[1;32m---> 20\u001b[1;33m     \u001b[0mp1\u001b[0m\u001b[1;33m.\u001b[0m\u001b[0mnext\u001b[0m \u001b[1;33m=\u001b[0m \u001b[1;32mNone\u001b[0m \u001b[1;31m# Split list for recursive iteration\u001b[0m\u001b[1;33m\u001b[0m\u001b[1;33m\u001b[0m\u001b[0m\n\u001b[0m\u001b[0;32m     21\u001b[0m \u001b[1;33m\u001b[0m\u001b[0m\n\u001b[0;32m     22\u001b[0m     \u001b[1;31m# Left side\u001b[0m\u001b[1;33m\u001b[0m\u001b[1;33m\u001b[0m\u001b[0m\n",
      "\u001b[1;31mAttributeError\u001b[0m: can't set attribute"
     ]
    }
   ],
   "source": [
    "llist = pyllist.sllist([23, 4, 8, 13, 1, 1, 16, 7])\n",
    "\n",
    "print(\"* * * * * PROBLEM 3 * * * * *\")\n",
    "print(f\"The given LinkedList is:\\n{llist}\")\n",
    "\n",
    "# Timing\n",
    "start = time.time_ns()\n",
    "result = linked_merge_sort(llist, llist.first)\n",
    "end = time.time_ns()\n",
    "\n",
    "print(f\"and the sorted list is:\\n{result}\\nand the total time is {(end-start)*1000} ns.\\n\")"
   ]
  },
  {
   "cell_type": "code",
   "execution_count": 10,
   "metadata": {},
   "outputs": [],
   "source": [
    "def linked_merge_sort(arr, head):\n",
    "    \n",
    "    # Base case\n",
    "    if(head is None or head.next is None):\n",
    "        return\n",
    "    \n",
    "    # Find the middle of current segment\n",
    "    # Set two pointers to the first value in LinkedList\n",
    "    p1 = p2 = head\n",
    "    \n",
    "    # While p2 has two more values ahead of it, move p1 forward 1 and p2 forward 2\n",
    "    while((p2.next is not None) and (p2.next.next is not None)):\n",
    "        p1 = p1.next\n",
    "        p2 = p2.next.next\n",
    "    \n",
    "    # Save places for left and right sides\n",
    "    middle = p1\n",
    "    right_start = middle.next\n",
    "    \n",
    "    p1.next = None # Split list for recursive iteration\n",
    "    \n",
    "    # Left side\n",
    "    linked_merge_sort(arr, head)\n",
    "    \n",
    "    # Right side\n",
    "    linked_merge_sort(arr, right_start)\n",
    "\n",
    "    sort_lists()\n",
    "\n",
    "    return sorted_arr"
   ]
  },
  {
   "cell_type": "code",
   "execution_count": 7,
   "metadata": {},
   "outputs": [],
   "source": [
    "def sort_lists(arr, left, right):\n",
    "    \n",
    "    if left == None:\n",
    "        return right\n",
    "    if right == None:\n",
    "        return left\n",
    "    \n",
    "    # Compare each side and merge accordingly\n",
    "    if left.data <= right.data:\n",
    "        result = left\n",
    "        result.next = sort_lists(arr, left.next, right)\n",
    "    else:\n",
    "        result = right\n",
    "        result.next = sort_lists(arr, left, right.next)\n",
    "        \n",
    "    return result    "
   ]
  },
  {
   "cell_type": "code",
   "execution_count": null,
   "metadata": {},
   "outputs": [],
   "source": []
  }
 ],
 "metadata": {
  "kernelspec": {
   "display_name": "Python 3",
   "language": "python",
   "name": "python3"
  },
  "language_info": {
   "codemirror_mode": {
    "name": "ipython",
    "version": 3
   },
   "file_extension": ".py",
   "mimetype": "text/x-python",
   "name": "python",
   "nbconvert_exporter": "python",
   "pygments_lexer": "ipython3",
   "version": "3.9.7"
  },
  "orig_nbformat": 4
 },
 "nbformat": 4,
 "nbformat_minor": 2
}
